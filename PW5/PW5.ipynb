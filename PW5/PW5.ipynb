{
  "cells": [
    {
      "cell_type": "markdown",
      "metadata": {
        "id": "FFyRvB3nc53C"
      },
      "source": [
        "# PW5\n",
        "**Maud TISSOT**"
      ]
    },
    {
      "cell_type": "code",
      "execution_count": 1,
      "metadata": {
        "id": "QZ4tYZexc53M"
      },
      "outputs": [],
      "source": [
        "import os\n",
        "import numpy as np\n",
        "import random\n",
        "import matplotlib.pyplot as plt\n",
        "import pandas as pd\n",
        "import plotly.express as px\n",
        "\n",
        "from keras.preprocessing.text import Tokenizer\n",
        "from keras.preprocessing.sequence import pad_sequences\n",
        "\n",
        "from sklearn.manifold import TSNE\n",
        "from sklearn.cluster import KMeans\n",
        "\n",
        "from keras.models import Sequential\n",
        "from keras.layers import Embedding, Flatten, Dense, Dropout\n",
        "from keras.optimizers import Adam\n",
        "from sklearn.metrics import accuracy_score\n",
        "from sklearn.model_selection import train_test_split"
      ]
    },
    {
      "cell_type": "markdown",
      "metadata": {
        "id": "xlDR9LkvuKLj"
      },
      "source": [
        "## **LOAD DATA**"
      ]
    },
    {
      "cell_type": "code",
      "execution_count": 2,
      "metadata": {
        "id": "ev3tbuMpc53Q"
      },
      "outputs": [],
      "source": [
        "def load_reviews_from_directory(directory):\n",
        "    reviews = []\n",
        "    labels  = []\n",
        "\n",
        "    for filename in os.listdir(directory):\n",
        "        if filename.endswith(\".txt\"):\n",
        "            with open(os.path.join(directory, filename), \"r\", encoding=\"utf-8\") as file:\n",
        "                review = file.read()\n",
        "                reviews.append(review)\n",
        "                if directory.endswith(\"pos/\"):\n",
        "                    labels.append(\"positive\")\n",
        "                elif directory.endswith(\"neg/\"):\n",
        "                    labels.append(\"negative\")\n",
        "\n",
        "    return reviews, labels"
      ]
    },
    {
      "cell_type": "code",
      "execution_count": 3,
      "metadata": {
        "colab": {
          "base_uri": "https://localhost:8080/"
        },
        "id": "PVdCUVA4eAhV",
        "outputId": "0cf3d74d-6443-4056-8a99-5173f9d7df75"
      },
      "outputs": [
        {
          "output_type": "stream",
          "name": "stdout",
          "text": [
            "Drive already mounted at /content/dossiers; to attempt to forcibly remount, call drive.mount(\"/content/dossiers\", force_remount=True).\n"
          ]
        }
      ],
      "source": [
        "from google.colab import drive\n",
        "drive.mount('/content/dossiers')\n",
        "\n",
        "path_neg = \"/content/dossiers/MyDrive/review_polarity/txt_sentoken/neg/\"\n",
        "path_pos = \"/content/dossiers/MyDrive/review_polarity/txt_sentoken/pos/\"\n",
        "\n",
        "positive_reviews, positive_labels = load_reviews_from_directory(path_pos)\n",
        "negative_reviews, negative_labels = load_reviews_from_directory(path_neg)\n",
        "\n",
        "all_reviews = positive_reviews + negative_reviews\n",
        "all_labels = positive_labels + negative_labels"
      ]
    },
    {
      "cell_type": "code",
      "execution_count": 4,
      "metadata": {
        "colab": {
          "base_uri": "https://localhost:8080/"
        },
        "id": "MnMJVSCsf9zT",
        "outputId": "b148115c-e9cf-424b-98b8-31f8828be4e0"
      },
      "outputs": [
        {
          "output_type": "stream",
          "name": "stdout",
          "text": [
            "Nombre total de critiques          : 2000\n",
            "Nombre total de critiques positives: 1000\n",
            "Nombre total de critiques negatives: 1000\n"
          ]
        }
      ],
      "source": [
        "print(\"Nombre total de critiques          :\",len(all_reviews))\n",
        "print(\"Nombre total de critiques positives:\",len(positive_reviews))\n",
        "print(\"Nombre total de critiques negatives:\",len(negative_reviews))"
      ]
    },
    {
      "cell_type": "code",
      "execution_count": 5,
      "metadata": {
        "colab": {
          "base_uri": "https://localhost:8080/"
        },
        "id": "ANvxnp9Be9Fb",
        "outputId": "c21ee580-9673-414b-d7e9-e839264ea7f0"
      },
      "outputs": [
        {
          "output_type": "stream",
          "name": "stdout",
          "text": [
            "Positive Review:\n",
            "\n",
            "after watching \" rat race \" last week , i noticed my cheeks were sore and realized that , when not laughing aloud , i had held a grin for virtually all of the film's 112 minutes . \n",
            "saturday night , i attended another sneak preview for the movie and damned if i didn't enjoy it as much the second time as the first . \n",
            " \" rat race \" is a great goofy delight , a dandy mix of energetic performances , inspired sight gags and flat-out silliness . \n",
            "hands down , this is the most fun film of the summer . \n",
            " etc...\n",
            "\n",
            "Label: positive\n"
          ]
        }
      ],
      "source": [
        "print(\"Positive Review:\\n\")\n",
        "print(positive_reviews[10][:500],\"etc...\")\n",
        "print(\"\\nLabel:\", positive_labels[10])"
      ]
    },
    {
      "cell_type": "code",
      "execution_count": 6,
      "metadata": {
        "colab": {
          "base_uri": "https://localhost:8080/"
        },
        "id": "iXrCp1SMfDy9",
        "outputId": "db83a600-9dc0-4520-c6a0-5f58d1083cd0"
      },
      "outputs": [
        {
          "output_type": "stream",
          "name": "stdout",
          "text": [
            "Negative Review:\n",
            "\n",
            "best remembered for his understated performance as dr . hannibal lecter in michael mann's forensics thriller , manhunter , scottish character actor brian cox brings something special to every movie he works on . \n",
            "usually playing a bit role in some studio schlock ( he dies halfway through the long kiss goodnight ) , he's only occasionally given something meaty and substantial to do . \n",
            "if you want to see some brilliant acting , check out his work as a dogged police inspector opposite frances mcdor etc...\n",
            "\n",
            "Label: negative\n"
          ]
        }
      ],
      "source": [
        "print(\"Negative Review:\\n\")\n",
        "print(negative_reviews[10][:500],\"etc...\")\n",
        "print(\"\\nLabel:\", negative_labels[10])"
      ]
    },
    {
      "cell_type": "markdown",
      "metadata": {
        "id": "CYf3jH97c53T"
      },
      "source": [
        "## **PREPARE DATA**\n",
        "\n",
        "### **- Tokenize**\n",
        "\n",
        "The Tokenizer class from keras.preprocessing.text in the Keras library is a utility class that is used to vectorize a text corpus into a list of integers.\n",
        "\n",
        "- fit_on_texts(): takes a list of strings as input and updates the internal vocabulary of the Tokenizer based on the unique words in the input texts.\n",
        "\n",
        "- texts_to_sequences(texts): This method uses the word index that was created during the fit_on_texts step to convert each word in the texts to its corresponding integer index.\n",
        "\n",
        "- pad_sequences(sequences, maxlen): This line takes truncates all tokens to have a uniform length. If a sequence is shorter than max_len, it will be padded at the beginning with zeros. If it's longer, it will be truncated."
      ]
    },
    {
      "cell_type": "code",
      "execution_count": 7,
      "metadata": {
        "id": "F79p_q-Qc53U",
        "colab": {
          "base_uri": "https://localhost:8080/"
        },
        "outputId": "23c9802f-2176-47c2-ce85-f43dcec98bab"
      },
      "outputs": [
        {
          "output_type": "stream",
          "name": "stdout",
          "text": [
            "\n",
            "Before Padding\n",
            "\n",
            "Nombre de critiques : 2000\n",
            "Taille du token     : 692 varie selon la review\n",
            "type                : <class 'int'>\n",
            "\n",
            "After Padding\n",
            "\n",
            "Nombre de critiques : 2000\n",
            "Taille du token     : 200\n",
            "type                : <class 'numpy.int32'>\n"
          ]
        }
      ],
      "source": [
        "#https://stackoverflow.com/questions/56880252/using-pre-trained-word-embeddings-in-a-keras-model\n",
        "tokenizer = Tokenizer()\n",
        "tokenizer.fit_on_texts(all_reviews)\n",
        "seq = tokenizer.texts_to_sequences(all_reviews)\n",
        "\n",
        "print(\"\\nBefore Padding\\n\")\n",
        "print(\"Nombre de critiques :\", len(seq))\n",
        "print(\"Taille du token     :\",len(seq[0]),\"varie selon la review\")\n",
        "print(\"type                :\",type(seq[0][0]))\n",
        "\n",
        "print(\"\\nAfter Padding\\n\")\n",
        "max_len = 200\n",
        "seq = pad_sequences(seq, maxlen = max_len)  #pad for deep learning model, inputs must have same dimensions\n",
        "\n",
        "print(\"Nombre de critiques :\", len(seq))\n",
        "print(\"Taille du token     :\",len(seq[0]))\n",
        "print(\"type                :\",type(seq[0][0]))"
      ]
    },
    {
      "cell_type": "markdown",
      "metadata": {
        "id": "C9cintMdwjEF"
      },
      "source": [
        "### **- Split in train test**"
      ]
    },
    {
      "cell_type": "code",
      "execution_count": 8,
      "metadata": {
        "id": "i6yRwXAoc53b",
        "colab": {
          "base_uri": "https://localhost:8080/"
        },
        "outputId": "f59395ce-b175-403b-d8b3-6fd0df39b496"
      },
      "outputs": [
        {
          "output_type": "stream",
          "name": "stdout",
          "text": [
            "Train\n",
            " - x shape :  (1400, 200)\n",
            " - y shape :  (1400,)\n",
            "\n",
            "Test\n",
            " - x shape :  (600, 200)\n",
            " - y shape :  (600,)\n"
          ]
        }
      ],
      "source": [
        "X_train, X_test, Y_train, Y_test = train_test_split(seq, all_labels, test_size=0.3, random_state=40)\n",
        "\n",
        "Y_train = np.where(np.array(Y_train) == 'positive', 1, 0)\n",
        "Y_test  = np.where(np.array(Y_test)  == 'positive', 1, 0)\n",
        "X_train = np.array(X_train)\n",
        "X_test  = np.array(X_test)\n",
        "\n",
        "print(\"Train\")\n",
        "print(\" - x shape : \",np.shape(X_train))\n",
        "print(\" - y shape : \",np.shape(Y_train))\n",
        "print(\"\\nTest\")\n",
        "print(\" - x shape : \",np.shape(X_test))\n",
        "print(\" - y shape : \",np.shape(Y_test))"
      ]
    },
    {
      "cell_type": "markdown",
      "metadata": {
        "id": "l1BTlUFEc53V"
      },
      "source": [
        "## **LOAD GLOVE WORD EMBEDDINGS**"
      ]
    },
    {
      "cell_type": "markdown",
      "metadata": {
        "id": "ejAUHN3_xVvf"
      },
      "source": [
        "### **- Load model**"
      ]
    },
    {
      "cell_type": "markdown",
      "metadata": {
        "id": "XlK5bdJqrd56"
      },
      "source": [
        "- The embeddings_index dictionary will contain word embeddings for words present in the GloVe file.\n",
        "- Each word is associated with a vector of 50 floating-point values.\n",
        "- This dictionary is used to retrieve word embeddings for specific words."
      ]
    },
    {
      "cell_type": "code",
      "execution_count": 9,
      "metadata": {
        "id": "9e7M13Etc53W"
      },
      "outputs": [],
      "source": [
        "#https://stackoverflow.com/questions/37793118/load-pretrained-glove-vectors-in-python\n",
        "\n",
        "embedding_dim = 50\n",
        "embeddings_index = {}\n",
        "with open('/content/dossiers/MyDrive/glove.6B.50d.txt', encoding='utf-8') as file:\n",
        "    for line in file:\n",
        "        values = line.split()\n",
        "        word   = values[0]\n",
        "        coefs  = np.asarray(values[1:], dtype='float32')\n",
        "        embeddings_index[word] = coefs"
      ]
    },
    {
      "cell_type": "markdown",
      "metadata": {
        "id": "JVX0mPjUxZIK"
      },
      "source": [
        "### **- Create embeddings**"
      ]
    },
    {
      "cell_type": "markdown",
      "metadata": {
        "id": "DWPmNAx3ryi9"
      },
      "source": [
        "- Create the matrix of embeddings\n",
        "- Each row corresponds to the word index of a word in your text data\n",
        "- The values in each row are the pre-trained word embedding vectors obtained from GloVe.\n",
        "- This matrix is used as an initial embedding layer in a neural network.\n",
        "\n",
        "\n",
        "\n",
        "\n",
        "\n"
      ]
    },
    {
      "cell_type": "code",
      "execution_count": 10,
      "metadata": {
        "id": "X7STjy3zc53Z",
        "colab": {
          "base_uri": "https://localhost:8080/"
        },
        "outputId": "441294d6-b6e9-4a55-a251-1b517f1c49df"
      },
      "outputs": [
        {
          "output_type": "stream",
          "name": "stdout",
          "text": [
            "nb of words      :  43297\n",
            "embeddings shape :  (43297, 50)\n"
          ]
        }
      ],
      "source": [
        "#https://stackoverflow.com/questions/56880252/using-pre-trained-word-embeddings-in-a-keras-model\n",
        "nbWords  = len(tokenizer.word_index) + 1\n",
        "array    = np.zeros((nbWords, embedding_dim))\n",
        "for word, i in tokenizer.word_index.items():\n",
        "    if i < nbWords:\n",
        "        vectors = embeddings_index.get(word)\n",
        "        if vectors is not None:\n",
        "            array[i] = vectors\n",
        "\n",
        "print(\"nb of words      : \",nbWords)\n",
        "print(\"embeddings shape : \",np.shape(array))"
      ]
    },
    {
      "cell_type": "code",
      "source": [
        "def tsneViz(embeddings, method, perplexity=30, num_clusters=6):\n",
        "    tsne = TSNE(n_components=3, random_state=42, perplexity=perplexity)\n",
        "    embeddings_tsne = tsne.fit_transform(embeddings)\n",
        "    kmeans = KMeans(n_clusters=num_clusters, random_state=42)\n",
        "    clusters = kmeans.fit_predict(embeddings)\n",
        "    df = pd.DataFrame(embeddings_tsne, columns=['Dim1', 'Dim2', 'Dim3'])\n",
        "    df['Cluster'] = clusters.astype(str)\n",
        "    fig = px.scatter_3d(df, x='Dim1', y='Dim2', z='Dim3',\n",
        "                        color='Cluster', title=f\"{method} Embeddings - 3D t-SNE Visualization with Clusters\")\n",
        "    fig.update_traces(marker=dict(size=5))\n",
        "    fig.show()\n",
        "\n",
        "tsneViz(array[:200,:],\"glove dim=50\")"
      ],
      "metadata": {
        "colab": {
          "base_uri": "https://localhost:8080/",
          "height": 611
        },
        "id": "sp4G9PQ9emcW",
        "outputId": "1f9bbf66-f2a3-4f6a-a446-0fde1d253f37"
      },
      "execution_count": 19,
      "outputs": [
        {
          "output_type": "stream",
          "name": "stderr",
          "text": [
            "/usr/local/lib/python3.10/dist-packages/sklearn/cluster/_kmeans.py:870: FutureWarning:\n",
            "\n",
            "The default value of `n_init` will change from 10 to 'auto' in 1.4. Set the value of `n_init` explicitly to suppress the warning\n",
            "\n"
          ]
        },
        {
          "output_type": "display_data",
          "data": {
            "text/html": [
              "<html>\n",
              "<head><meta charset=\"utf-8\" /></head>\n",
              "<body>\n",
              "    <div>            <script src=\"https://cdnjs.cloudflare.com/ajax/libs/mathjax/2.7.5/MathJax.js?config=TeX-AMS-MML_SVG\"></script><script type=\"text/javascript\">if (window.MathJax && window.MathJax.Hub && window.MathJax.Hub.Config) {window.MathJax.Hub.Config({SVG: {font: \"STIX-Web\"}});}</script>                <script type=\"text/javascript\">window.PlotlyConfig = {MathJaxConfig: 'local'};</script>\n",
              "        <script charset=\"utf-8\" src=\"https://cdn.plot.ly/plotly-2.24.1.min.js\"></script>                <div id=\"000c1db0-2663-42aa-980e-7a67425d648c\" class=\"plotly-graph-div\" style=\"height:525px; width:100%;\"></div>            <script type=\"text/javascript\">                                    window.PLOTLYENV=window.PLOTLYENV || {};                                    if (document.getElementById(\"000c1db0-2663-42aa-980e-7a67425d648c\")) {                    Plotly.newPlot(                        \"000c1db0-2663-42aa-980e-7a67425d648c\",                        [{\"hovertemplate\":\"Cluster=0\\u003cbr\\u003eDim1=%{x}\\u003cbr\\u003eDim2=%{y}\\u003cbr\\u003eDim3=%{z}\\u003cextra\\u003e\\u003c\\u002fextra\\u003e\",\"legendgroup\":\"0\",\"marker\":{\"color\":\"#636efa\",\"symbol\":\"circle\",\"size\":5},\"mode\":\"markers\",\"name\":\"0\",\"scene\":\"scene\",\"showlegend\":true,\"x\":[45.250694274902344,45.250694274902344,45.250694274902344,45.250694274902344,45.250694274902344,45.250694274902344,45.250694274902344,45.250694274902344],\"y\":[74.24790954589844,74.24790954589844,74.24790954589844,74.24790954589844,74.24790954589844,74.24790954589844,74.24790954589844,74.24790954589844],\"z\":[-2.0830845832824707,-2.0830845832824707,-2.0830845832824707,-2.0830845832824707,-2.0830845832824707,-2.0830845832824707,-2.0830845832824707,-2.0830845832824707],\"type\":\"scatter3d\"},{\"hovertemplate\":\"Cluster=2\\u003cbr\\u003eDim1=%{x}\\u003cbr\\u003eDim2=%{y}\\u003cbr\\u003eDim3=%{z}\\u003cextra\\u003e\\u003c\\u002fextra\\u003e\",\"legendgroup\":\"2\",\"marker\":{\"color\":\"#EF553B\",\"symbol\":\"circle\",\"size\":5},\"mode\":\"markers\",\"name\":\"2\",\"scene\":\"scene\",\"showlegend\":true,\"x\":[-8.96804141998291,44.82762145996094,-28.88590431213379,-45.22359848022461,-17.068511962890625,-38.1746826171875,-34.280433654785156,-27.45267105102539,-39.963932037353516,1.2709294557571411,-15.523887634277344,5.760708332061768,-62.12921905517578,10.530256271362305,5.287698268890381,-34.523502349853516,-4.8471245765686035,-34.31633377075195,-35.93260955810547,-36.861724853515625,2.0422372817993164,-19.3083553314209,-19.18775749206543,-19.198610305786133,-8.679242134094238,-57.10170364379883,-48.57366180419922,-18.46177101135254,16.989599227905273,1.957007884979248,18.442800521850586,5.8923516273498535,7.057833671569824],\"y\":[53.80232620239258,-8.96180534362793,56.30464553833008,20.399932861328125,34.96099853515625,42.01177978515625,56.20277786254883,-17.568655014038086,-2.185500383377075,0.38477879762649536,-13.11709213256836,11.618843078613281,21.561260223388672,38.65521240234375,24.848752975463867,-21.745332717895508,12.715656280517578,19.886476516723633,70.8807373046875,19.355195999145508,-1.6832271814346313,1.2303811311721802,30.85428810119629,-7.092154026031494,14.676867485046387,53.2893180847168,-6.249325275421143,81.37040710449219,34.70520782470703,60.44367218017578,78.71057891845703,50.621803283691406,42.27935791015625],\"z\":[37.88360595703125,35.30397033691406,45.127464294433594,24.149179458618164,52.65998077392578,50.338871002197266,71.96466064453125,47.84276580810547,50.64775466918945,50.913028717041016,84.84638214111328,34.47883605957031,37.54018783569336,39.251136779785156,61.15618133544922,67.23069763183594,-26.00727081298828,39.97071838378906,54.4449348449707,60.872589111328125,67.9102554321289,90.12254333496094,75.54997253417969,60.32071304321289,59.688026428222656,40.21980667114258,64.818115234375,60.08417892456055,75.20318603515625,80.10548400878906,40.69955062866211,67.43114471435547,88.51013946533203],\"type\":\"scatter3d\"},{\"hovertemplate\":\"Cluster=4\\u003cbr\\u003eDim1=%{x}\\u003cbr\\u003eDim2=%{y}\\u003cbr\\u003eDim3=%{z}\\u003cextra\\u003e\\u003c\\u002fextra\\u003e\",\"legendgroup\":\"4\",\"marker\":{\"color\":\"#00cc96\",\"symbol\":\"circle\",\"size\":5},\"mode\":\"markers\",\"name\":\"4\",\"scene\":\"scene\",\"showlegend\":true,\"x\":[-72.32051849365234,31.797468185424805,23.70021629333496,-65.56407165527344,-63.40953826904297,14.206345558166504,-73.01765441894531,-79.19962310791016,23.434268951416016,-42.04270935058594,-70.10536193847656,-38.51092529296875,-46.712528228759766,-54.683876037597656,-77.0018081665039,32.349212646484375,-3.033102512359619,53.57939147949219],\"y\":[5.788965702056885,-1.0000532865524292,6.797341346740723,7.050858497619629,-30.749225616455078,49.03265380859375,56.46735763549805,42.29900360107422,-12.607869148254395,-26.278379440307617,-20.140039443969727,59.46718978881836,-44.900150299072266,-2.1116573810577393,-22.90602684020996,47.245426177978516,77.42534637451172,54.311485290527344],\"z\":[14.049835205078125,70.43062591552734,55.99445343017578,-1.4467874765396118,36.56265640258789,16.492284774780273,0.2858451306819916,0.20120935142040253,55.78227996826172,-30.234851837158203,17.313732147216797,-8.659660339355469,-2.0659127235412598,15.75603199005127,1.030747890472412,46.892112731933594,-9.010438919067383,46.470584869384766],\"type\":\"scatter3d\"},{\"hovertemplate\":\"Cluster=3\\u003cbr\\u003eDim1=%{x}\\u003cbr\\u003eDim2=%{y}\\u003cbr\\u003eDim3=%{z}\\u003cextra\\u003e\\u003c\\u002fextra\\u003e\",\"legendgroup\":\"3\",\"marker\":{\"color\":\"#ab63fa\",\"symbol\":\"circle\",\"size\":5},\"mode\":\"markers\",\"name\":\"3\",\"scene\":\"scene\",\"showlegend\":true,\"x\":[-41.92647171020508,-35.32304763793945,-39.44493103027344,32.133384704589844,-14.765323638916016,30.72132110595703,-12.408429145812988,-22.522321701049805,-9.817330360412598,-23.975074768066406,37.85451126098633,-31.39117431640625,-1.5502026081085205,-5.949563980102539,21.76021385192871,39.45642852783203,12.928092956542969,-18.464921951293945,70.8807144165039,36.125755310058594,6.0763840675354,33.72689437866211,8.142382621765137,23.21344757080078,-11.673035621643066,-7.064352512359619,3.551046371459961,-26.612407684326172,-23.705440521240234,32.83732223510742,18.876697540283203,15.226306915283203,-22.94245147705078,-25.85681915283203,-10.701502799987793,-39.64226150512695,11.320198059082031,54.12621307373047,-27.44338607788086,8.499106407165527,51.86746597290039,10.838480949401855,2.564251661300659,60.979225158691406,-26.27153968811035,-4.237631320953369,-0.037634897977113724,-28.17740249633789,-43.23809814453125,52.21138381958008,91.9405288696289,33.159847259521484,40.12295913696289,-8.826485633850098,-12.658217430114746],\"y\":[38.69489669799805,63.7376708984375,-18.4397029876709,1.5610181093215942,-17.55425453186035,-207.3052520751953,30.353443145751953,-10.422149658203125,63.750328063964844,37.61562728881836,0.38938456773757935,-1.128808856010437,42.653194427490234,45.80916213989258,48.764347076416016,46.45144271850586,43.53531265258789,56.389007568359375,15.597514152526855,36.09749221801758,46.488128662109375,47.821937561035156,21.23017120361328,31.699003219604492,41.33723449707031,72.21038055419922,28.229040145874023,41.99386215209961,49.544429779052734,4.9832258224487305,67.67955017089844,17.257062911987305,72.14888000488281,82.81254577636719,54.847381591796875,57.819374084472656,23.58196449279785,-31.02277183532715,20.033388137817383,-4.845114707946777,22.450939178466797,57.31480407714844,-1.7743031978607178,7.446509838104248,13.708215713500977,30.28304100036621,-86.26728057861328,9.415576934814453,29.042457580566406,16.463491439819336,-10.903328895568848,22.905681610107422,28.08500099182129,-19.564773559570312,18.11652374267578],\"z\":[20.878021240234375,26.466266632080078,4.56645393371582,11.250126838684082,9.61246395111084,17.745389938354492,25.0540714263916,-5.331974029541016,-37.61212158203125,-16.823684692382812,-12.310467720031738,22.156085968017578,-33.246917724609375,-0.8132228851318359,-23.004837036132812,-66.03726196289062,-73.79187774658203,21.54157066345215,-9.618949890136719,3.954474449157715,-53.7694206237793,-42.229557037353516,13.618511199951172,-70.72156524658203,-76.13636779785156,21.828731536865234,-15.134403228759766,3.1241745948791504,-43.90839385986328,-68.2396240234375,-56.720420837402344,-11.202430725097656,-50.304561614990234,6.282289981842041,-59.50224685668945,-51.430965423583984,-35.8496208190918,64.75762176513672,14.49754524230957,-5.624660491943359,39.613651275634766,-36.44907760620117,11.911905288696289,-49.15977096557617,-11.485262870788574,-55.867942810058594,-51.579776763916016,-41.86936950683594,0.42995747923851013,1.9538042545318604,0.9844491481781006,-51.10499572753906,21.975521087646484,-21.954809188842773,-3.1517395973205566],\"type\":\"scatter3d\"},{\"hovertemplate\":\"Cluster=5\\u003cbr\\u003eDim1=%{x}\\u003cbr\\u003eDim2=%{y}\\u003cbr\\u003eDim3=%{z}\\u003cextra\\u003e\\u003c\\u002fextra\\u003e\",\"legendgroup\":\"5\",\"marker\":{\"color\":\"#FFA15A\",\"symbol\":\"circle\",\"size\":5},\"mode\":\"markers\",\"name\":\"5\",\"scene\":\"scene\",\"showlegend\":true,\"x\":[7.024136066436768,8.313167572021484,-35.585044860839844,-24.361595153808594,-21.2122859954834,23.149118423461914,-53.87314987182617,-39.09503936767578,-22.492816925048828,-42.928714752197266,24.575990676879883,-49.28678512573242,-37.81402587890625,-73.47187042236328,-48.54330062866211,2.2464687824249268,-11.14318561553955,-54.7544059753418,-14.307517051696777],\"y\":[-12.406355857849121,-24.63132667541504,-20.890018463134766,-23.996295928955078,-10.21989631652832,-19.809814453125,-19.043058395385742,14.531534194946289,-68.47252655029297,0.4927268922328949,-30.965686798095703,-42.055171966552734,-62.241111755371094,2.8792784214019775,-1.8450582027435303,-32.7496452331543,-49.69643783569336,10.687830924987793,-14.654215812683105],\"z\":[-85.71458435058594,-72.52293395996094,-51.59495544433594,-73.19750213623047,-78.51806640625,-87.49642181396484,-62.04082107543945,-70.43787384033203,44.448516845703125,-67.42303466796875,-73.70146942138672,-36.22543716430664,54.88498306274414,-42.14582824707031,-20.550111770629883,-88.6432876586914,-65.558349609375,-46.29288864135742,-54.8922004699707],\"type\":\"scatter3d\"},{\"hovertemplate\":\"Cluster=1\\u003cbr\\u003eDim1=%{x}\\u003cbr\\u003eDim2=%{y}\\u003cbr\\u003eDim3=%{z}\\u003cextra\\u003e\\u003c\\u002fextra\\u003e\",\"legendgroup\":\"1\",\"marker\":{\"color\":\"#19d3f3\",\"symbol\":\"circle\",\"size\":5},\"mode\":\"markers\",\"name\":\"1\",\"scene\":\"scene\",\"showlegend\":true,\"x\":[-37.593074798583984,-31.616558074951172,49.86978530883789,-32.27970886230469,37.73020553588867,-19.21068572998047,4.268832206726074,16.33212661743164,-6.981314182281494,47.26265335083008,34.82655715942383,64.4537353515625,-5.923933982849121,28.661880493164062,60.48882293701172,66.61079406738281,58.13776779174805,-16.974002838134766,20.02857780456543,41.17618179321289,51.56206130981445,12.880461692810059,43.91445541381836,-6.504700660705566,28.497920989990234,43.21121597290039,-4.97025728225708,66.41541290283203,37.11989212036133,-7.86007833480835,30.620820999145508,-22.684398651123047,-34.25120544433594,42.05561065673828,-25.725116729736328,-54.48002624511719,13.22270679473877,25.006742477416992,79.77359771728516,23.39606285095215,70.6235580444336,-33.69261169433594,-3.580228090286255,-18.494028091430664,24.700546264648438,10.28074836730957,10.913028717041016,3.0657758712768555,33.08921432495117,46.92536544799805,6.249035358428955,30.941123962402344,65.75421142578125,10.397446632385254,-52.40853500366211,10.814285278320312,10.372140884399414,3.065547466278076,0.21832820773124695,-9.334372520446777,3.829183340072632,76.84339141845703,-30.457780838012695,51.86408996582031,-48.98684310913086,42.7542610168457,18.784574508666992],\"y\":[77.16790008544922,-75.07489776611328,-12.608513832092285,-84.50851440429688,26.561006546020508,-93.2533187866211,-48.38772964477539,-53.17949676513672,-24.975669860839844,-32.60481643676758,-16.992143630981445,-25.988876342773438,-70.3488540649414,-80.4572982788086,-53.64070510864258,-30.464353561401367,-15.130452156066895,-40.36031723022461,-41.69388961791992,-65.46773529052734,34.7087516784668,-70.6444320678711,-81.0627670288086,-44.403560638427734,-15.720864295959473,-45.275474548339844,-65.05451202392578,-10.120336532592773,-49.081939697265625,-72.63704681396484,-65.31838989257812,-61.12664031982422,-65.16498565673828,-22.733654022216797,-66.8174819946289,-71.32695007324219,-18.190914154052734,-51.586299896240234,42.05414962768555,-41.57373046875,-10.39245891571045,-81.72523498535156,-55.342247009277344,-40.446571350097656,-43.17156219482422,2.1223247051239014,-68.59907531738281,-71.11982727050781,-65.26206970214844,-28.135231018066406,-40.331825256347656,-45.1387825012207,-25.450021743774414,-25.13687515258789,-81.18244171142578,-76.42272186279297,-65.24312591552734,-28.41575813293457,-90.38933563232422,-56.242652893066406,-39.86643981933594,6.756959915161133,-38.84994125366211,-61.294071197509766,29.94883918762207,-4.414885520935059,-27.90166664123535],\"z\":[150.5556640625,-54.57411193847656,-5.903782844543457,-32.29119873046875,-20.25971794128418,7.880753993988037,2.506309986114502,-21.52115249633789,38.643646240234375,-5.990231513977051,-26.43798828125,-28.77412223815918,29.023502349853516,-41.710872650146484,3.43056583404541,29.518159866333008,18.28420066833496,0.06836310029029846,35.62635803222656,-50.531883239746094,-22.775014877319336,8.06800365447998,-0.6758927702903748,23.29966163635254,-2.3487582206726074,26.685997009277344,-2.672994375228882,-19.53443145751953,-4.2191596031188965,-31.848804473876953,-22.9797306060791,10.530607223510742,-40.09038543701172,13.671969413757324,-10.628250122070312,-35.11956024169922,-34.754051208496094,-45.874515533447266,3.6563923358917236,54.2452278137207,46.31637191772461,18.824007034301758,-25.263301849365234,-25.809709548950195,11.009320259094238,-52.474185943603516,33.6911506652832,61.2925910949707,26.025569915771484,38.002906799316406,51.3255729675293,-29.768421173095703,4.087150573730469,21.354610443115234,-20.821256637573242,-21.301233291625977,-41.37646484375,-4.941647052764893,-5.545456886291504,-43.84602355957031,-33.681358337402344,21.68841552734375,31.568208694458008,-23.06804656982422,-28.22177505493164,-44.474918365478516,-20.29945182800293],\"type\":\"scatter3d\"}],                        {\"template\":{\"data\":{\"histogram2dcontour\":[{\"type\":\"histogram2dcontour\",\"colorbar\":{\"outlinewidth\":0,\"ticks\":\"\"},\"colorscale\":[[0.0,\"#0d0887\"],[0.1111111111111111,\"#46039f\"],[0.2222222222222222,\"#7201a8\"],[0.3333333333333333,\"#9c179e\"],[0.4444444444444444,\"#bd3786\"],[0.5555555555555556,\"#d8576b\"],[0.6666666666666666,\"#ed7953\"],[0.7777777777777778,\"#fb9f3a\"],[0.8888888888888888,\"#fdca26\"],[1.0,\"#f0f921\"]]}],\"choropleth\":[{\"type\":\"choropleth\",\"colorbar\":{\"outlinewidth\":0,\"ticks\":\"\"}}],\"histogram2d\":[{\"type\":\"histogram2d\",\"colorbar\":{\"outlinewidth\":0,\"ticks\":\"\"},\"colorscale\":[[0.0,\"#0d0887\"],[0.1111111111111111,\"#46039f\"],[0.2222222222222222,\"#7201a8\"],[0.3333333333333333,\"#9c179e\"],[0.4444444444444444,\"#bd3786\"],[0.5555555555555556,\"#d8576b\"],[0.6666666666666666,\"#ed7953\"],[0.7777777777777778,\"#fb9f3a\"],[0.8888888888888888,\"#fdca26\"],[1.0,\"#f0f921\"]]}],\"heatmap\":[{\"type\":\"heatmap\",\"colorbar\":{\"outlinewidth\":0,\"ticks\":\"\"},\"colorscale\":[[0.0,\"#0d0887\"],[0.1111111111111111,\"#46039f\"],[0.2222222222222222,\"#7201a8\"],[0.3333333333333333,\"#9c179e\"],[0.4444444444444444,\"#bd3786\"],[0.5555555555555556,\"#d8576b\"],[0.6666666666666666,\"#ed7953\"],[0.7777777777777778,\"#fb9f3a\"],[0.8888888888888888,\"#fdca26\"],[1.0,\"#f0f921\"]]}],\"heatmapgl\":[{\"type\":\"heatmapgl\",\"colorbar\":{\"outlinewidth\":0,\"ticks\":\"\"},\"colorscale\":[[0.0,\"#0d0887\"],[0.1111111111111111,\"#46039f\"],[0.2222222222222222,\"#7201a8\"],[0.3333333333333333,\"#9c179e\"],[0.4444444444444444,\"#bd3786\"],[0.5555555555555556,\"#d8576b\"],[0.6666666666666666,\"#ed7953\"],[0.7777777777777778,\"#fb9f3a\"],[0.8888888888888888,\"#fdca26\"],[1.0,\"#f0f921\"]]}],\"contourcarpet\":[{\"type\":\"contourcarpet\",\"colorbar\":{\"outlinewidth\":0,\"ticks\":\"\"}}],\"contour\":[{\"type\":\"contour\",\"colorbar\":{\"outlinewidth\":0,\"ticks\":\"\"},\"colorscale\":[[0.0,\"#0d0887\"],[0.1111111111111111,\"#46039f\"],[0.2222222222222222,\"#7201a8\"],[0.3333333333333333,\"#9c179e\"],[0.4444444444444444,\"#bd3786\"],[0.5555555555555556,\"#d8576b\"],[0.6666666666666666,\"#ed7953\"],[0.7777777777777778,\"#fb9f3a\"],[0.8888888888888888,\"#fdca26\"],[1.0,\"#f0f921\"]]}],\"surface\":[{\"type\":\"surface\",\"colorbar\":{\"outlinewidth\":0,\"ticks\":\"\"},\"colorscale\":[[0.0,\"#0d0887\"],[0.1111111111111111,\"#46039f\"],[0.2222222222222222,\"#7201a8\"],[0.3333333333333333,\"#9c179e\"],[0.4444444444444444,\"#bd3786\"],[0.5555555555555556,\"#d8576b\"],[0.6666666666666666,\"#ed7953\"],[0.7777777777777778,\"#fb9f3a\"],[0.8888888888888888,\"#fdca26\"],[1.0,\"#f0f921\"]]}],\"mesh3d\":[{\"type\":\"mesh3d\",\"colorbar\":{\"outlinewidth\":0,\"ticks\":\"\"}}],\"scatter\":[{\"fillpattern\":{\"fillmode\":\"overlay\",\"size\":10,\"solidity\":0.2},\"type\":\"scatter\"}],\"parcoords\":[{\"type\":\"parcoords\",\"line\":{\"colorbar\":{\"outlinewidth\":0,\"ticks\":\"\"}}}],\"scatterpolargl\":[{\"type\":\"scatterpolargl\",\"marker\":{\"colorbar\":{\"outlinewidth\":0,\"ticks\":\"\"}}}],\"bar\":[{\"error_x\":{\"color\":\"#2a3f5f\"},\"error_y\":{\"color\":\"#2a3f5f\"},\"marker\":{\"line\":{\"color\":\"#E5ECF6\",\"width\":0.5},\"pattern\":{\"fillmode\":\"overlay\",\"size\":10,\"solidity\":0.2}},\"type\":\"bar\"}],\"scattergeo\":[{\"type\":\"scattergeo\",\"marker\":{\"colorbar\":{\"outlinewidth\":0,\"ticks\":\"\"}}}],\"scatterpolar\":[{\"type\":\"scatterpolar\",\"marker\":{\"colorbar\":{\"outlinewidth\":0,\"ticks\":\"\"}}}],\"histogram\":[{\"marker\":{\"pattern\":{\"fillmode\":\"overlay\",\"size\":10,\"solidity\":0.2}},\"type\":\"histogram\"}],\"scattergl\":[{\"type\":\"scattergl\",\"marker\":{\"colorbar\":{\"outlinewidth\":0,\"ticks\":\"\"}}}],\"scatter3d\":[{\"type\":\"scatter3d\",\"line\":{\"colorbar\":{\"outlinewidth\":0,\"ticks\":\"\"}},\"marker\":{\"colorbar\":{\"outlinewidth\":0,\"ticks\":\"\"}}}],\"scattermapbox\":[{\"type\":\"scattermapbox\",\"marker\":{\"colorbar\":{\"outlinewidth\":0,\"ticks\":\"\"}}}],\"scatterternary\":[{\"type\":\"scatterternary\",\"marker\":{\"colorbar\":{\"outlinewidth\":0,\"ticks\":\"\"}}}],\"scattercarpet\":[{\"type\":\"scattercarpet\",\"marker\":{\"colorbar\":{\"outlinewidth\":0,\"ticks\":\"\"}}}],\"carpet\":[{\"aaxis\":{\"endlinecolor\":\"#2a3f5f\",\"gridcolor\":\"white\",\"linecolor\":\"white\",\"minorgridcolor\":\"white\",\"startlinecolor\":\"#2a3f5f\"},\"baxis\":{\"endlinecolor\":\"#2a3f5f\",\"gridcolor\":\"white\",\"linecolor\":\"white\",\"minorgridcolor\":\"white\",\"startlinecolor\":\"#2a3f5f\"},\"type\":\"carpet\"}],\"table\":[{\"cells\":{\"fill\":{\"color\":\"#EBF0F8\"},\"line\":{\"color\":\"white\"}},\"header\":{\"fill\":{\"color\":\"#C8D4E3\"},\"line\":{\"color\":\"white\"}},\"type\":\"table\"}],\"barpolar\":[{\"marker\":{\"line\":{\"color\":\"#E5ECF6\",\"width\":0.5},\"pattern\":{\"fillmode\":\"overlay\",\"size\":10,\"solidity\":0.2}},\"type\":\"barpolar\"}],\"pie\":[{\"automargin\":true,\"type\":\"pie\"}]},\"layout\":{\"autotypenumbers\":\"strict\",\"colorway\":[\"#636efa\",\"#EF553B\",\"#00cc96\",\"#ab63fa\",\"#FFA15A\",\"#19d3f3\",\"#FF6692\",\"#B6E880\",\"#FF97FF\",\"#FECB52\"],\"font\":{\"color\":\"#2a3f5f\"},\"hovermode\":\"closest\",\"hoverlabel\":{\"align\":\"left\"},\"paper_bgcolor\":\"white\",\"plot_bgcolor\":\"#E5ECF6\",\"polar\":{\"bgcolor\":\"#E5ECF6\",\"angularaxis\":{\"gridcolor\":\"white\",\"linecolor\":\"white\",\"ticks\":\"\"},\"radialaxis\":{\"gridcolor\":\"white\",\"linecolor\":\"white\",\"ticks\":\"\"}},\"ternary\":{\"bgcolor\":\"#E5ECF6\",\"aaxis\":{\"gridcolor\":\"white\",\"linecolor\":\"white\",\"ticks\":\"\"},\"baxis\":{\"gridcolor\":\"white\",\"linecolor\":\"white\",\"ticks\":\"\"},\"caxis\":{\"gridcolor\":\"white\",\"linecolor\":\"white\",\"ticks\":\"\"}},\"coloraxis\":{\"colorbar\":{\"outlinewidth\":0,\"ticks\":\"\"}},\"colorscale\":{\"sequential\":[[0.0,\"#0d0887\"],[0.1111111111111111,\"#46039f\"],[0.2222222222222222,\"#7201a8\"],[0.3333333333333333,\"#9c179e\"],[0.4444444444444444,\"#bd3786\"],[0.5555555555555556,\"#d8576b\"],[0.6666666666666666,\"#ed7953\"],[0.7777777777777778,\"#fb9f3a\"],[0.8888888888888888,\"#fdca26\"],[1.0,\"#f0f921\"]],\"sequentialminus\":[[0.0,\"#0d0887\"],[0.1111111111111111,\"#46039f\"],[0.2222222222222222,\"#7201a8\"],[0.3333333333333333,\"#9c179e\"],[0.4444444444444444,\"#bd3786\"],[0.5555555555555556,\"#d8576b\"],[0.6666666666666666,\"#ed7953\"],[0.7777777777777778,\"#fb9f3a\"],[0.8888888888888888,\"#fdca26\"],[1.0,\"#f0f921\"]],\"diverging\":[[0,\"#8e0152\"],[0.1,\"#c51b7d\"],[0.2,\"#de77ae\"],[0.3,\"#f1b6da\"],[0.4,\"#fde0ef\"],[0.5,\"#f7f7f7\"],[0.6,\"#e6f5d0\"],[0.7,\"#b8e186\"],[0.8,\"#7fbc41\"],[0.9,\"#4d9221\"],[1,\"#276419\"]]},\"xaxis\":{\"gridcolor\":\"white\",\"linecolor\":\"white\",\"ticks\":\"\",\"title\":{\"standoff\":15},\"zerolinecolor\":\"white\",\"automargin\":true,\"zerolinewidth\":2},\"yaxis\":{\"gridcolor\":\"white\",\"linecolor\":\"white\",\"ticks\":\"\",\"title\":{\"standoff\":15},\"zerolinecolor\":\"white\",\"automargin\":true,\"zerolinewidth\":2},\"scene\":{\"xaxis\":{\"backgroundcolor\":\"#E5ECF6\",\"gridcolor\":\"white\",\"linecolor\":\"white\",\"showbackground\":true,\"ticks\":\"\",\"zerolinecolor\":\"white\",\"gridwidth\":2},\"yaxis\":{\"backgroundcolor\":\"#E5ECF6\",\"gridcolor\":\"white\",\"linecolor\":\"white\",\"showbackground\":true,\"ticks\":\"\",\"zerolinecolor\":\"white\",\"gridwidth\":2},\"zaxis\":{\"backgroundcolor\":\"#E5ECF6\",\"gridcolor\":\"white\",\"linecolor\":\"white\",\"showbackground\":true,\"ticks\":\"\",\"zerolinecolor\":\"white\",\"gridwidth\":2}},\"shapedefaults\":{\"line\":{\"color\":\"#2a3f5f\"}},\"annotationdefaults\":{\"arrowcolor\":\"#2a3f5f\",\"arrowhead\":0,\"arrowwidth\":1},\"geo\":{\"bgcolor\":\"white\",\"landcolor\":\"#E5ECF6\",\"subunitcolor\":\"white\",\"showland\":true,\"showlakes\":true,\"lakecolor\":\"white\"},\"title\":{\"x\":0.05},\"mapbox\":{\"style\":\"light\"}}},\"scene\":{\"domain\":{\"x\":[0.0,1.0],\"y\":[0.0,1.0]},\"xaxis\":{\"title\":{\"text\":\"Dim1\"}},\"yaxis\":{\"title\":{\"text\":\"Dim2\"}},\"zaxis\":{\"title\":{\"text\":\"Dim3\"}}},\"legend\":{\"title\":{\"text\":\"Cluster\"},\"tracegroupgap\":0},\"title\":{\"text\":\"glove dim=50 Embeddings - 3D t-SNE Visualization with Clusters\"}},                        {\"responsive\": true}                    ).then(function(){\n",
              "                            \n",
              "var gd = document.getElementById('000c1db0-2663-42aa-980e-7a67425d648c');\n",
              "var x = new MutationObserver(function (mutations, observer) {{\n",
              "        var display = window.getComputedStyle(gd).display;\n",
              "        if (!display || display === 'none') {{\n",
              "            console.log([gd, 'removed!']);\n",
              "            Plotly.purge(gd);\n",
              "            observer.disconnect();\n",
              "        }}\n",
              "}});\n",
              "\n",
              "// Listen for the removal of the full notebook cells\n",
              "var notebookContainer = gd.closest('#notebook-container');\n",
              "if (notebookContainer) {{\n",
              "    x.observe(notebookContainer, {childList: true});\n",
              "}}\n",
              "\n",
              "// Listen for the clearing of the current output cell\n",
              "var outputEl = gd.closest('.output');\n",
              "if (outputEl) {{\n",
              "    x.observe(outputEl, {childList: true});\n",
              "}}\n",
              "\n",
              "                        })                };                            </script>        </div>\n",
              "</body>\n",
              "</html>"
            ]
          },
          "metadata": {}
        }
      ]
    },
    {
      "cell_type": "markdown",
      "metadata": {
        "id": "Pvgk58QFc53a"
      },
      "source": [
        "## **EVALUATE REVIEWS SENTIMENT**"
      ]
    },
    {
      "cell_type": "markdown",
      "metadata": {
        "id": "CRJIOYTbxpcL"
      },
      "source": [
        "### **- Create model**"
      ]
    },
    {
      "cell_type": "code",
      "execution_count": 20,
      "metadata": {
        "id": "WyaJ3U4dc53b"
      },
      "outputs": [],
      "source": [
        "random.seed(200)\n",
        "\n",
        "model = Sequential()\n",
        "model.add(Embedding(input_dim=nbWords, output_dim=embedding_dim, input_length=max_len,weights=[array], trainable=False))\n",
        "model.add(Dropout(0.5))\n",
        "model.add(Flatten())\n",
        "model.add(Dense(512, activation='relu'))\n",
        "model.add(Dropout(0.5))\n",
        "model.add(Dense(64, activation='relu'))\n",
        "model.add(Dropout(0.5))\n",
        "model.add(Dense(1, activation='sigmoid'))"
      ]
    },
    {
      "cell_type": "markdown",
      "metadata": {
        "id": "xSrOYFe4xxZj"
      },
      "source": [
        "### **- Compile with loss, optimizer and metric**"
      ]
    },
    {
      "cell_type": "code",
      "execution_count": 21,
      "metadata": {
        "id": "t6bjxkgCxxzI"
      },
      "outputs": [],
      "source": [
        "#optimizer = Adam(learning_rate=0.01)\n",
        "model.compile(optimizer=\"Adam\", loss='binary_crossentropy', metrics=['accuracy'])"
      ]
    },
    {
      "cell_type": "markdown",
      "metadata": {
        "id": "CA0vWMawvjyq"
      },
      "source": [
        "### **- Train model**"
      ]
    },
    {
      "cell_type": "code",
      "execution_count": 22,
      "metadata": {
        "colab": {
          "base_uri": "https://localhost:8080/"
        },
        "id": "OQWowJBTc53c",
        "outputId": "83ec0f82-0742-4a68-813b-79dc550847e3"
      },
      "outputs": [
        {
          "output_type": "stream",
          "name": "stdout",
          "text": [
            "Epoch 1/40\n",
            "44/44 [==============================] - 7s 141ms/step - loss: 0.9562 - accuracy: 0.5079 - val_loss: 0.6922 - val_accuracy: 0.5167\n",
            "Epoch 2/40\n",
            "44/44 [==============================] - 4s 86ms/step - loss: 0.7246 - accuracy: 0.5200 - val_loss: 0.6929 - val_accuracy: 0.4917\n",
            "Epoch 3/40\n",
            "44/44 [==============================] - 4s 87ms/step - loss: 0.6990 - accuracy: 0.5571 - val_loss: 0.6904 - val_accuracy: 0.5683\n",
            "Epoch 4/40\n",
            "44/44 [==============================] - 4s 87ms/step - loss: 0.6921 - accuracy: 0.5550 - val_loss: 0.6884 - val_accuracy: 0.5333\n",
            "Epoch 5/40\n",
            "44/44 [==============================] - 5s 120ms/step - loss: 0.6937 - accuracy: 0.5614 - val_loss: 0.6873 - val_accuracy: 0.5400\n",
            "Epoch 6/40\n",
            "44/44 [==============================] - 5s 110ms/step - loss: 0.6786 - accuracy: 0.5957 - val_loss: 0.6822 - val_accuracy: 0.5333\n",
            "Epoch 7/40\n",
            "44/44 [==============================] - 4s 90ms/step - loss: 0.6101 - accuracy: 0.6693 - val_loss: 0.6467 - val_accuracy: 0.6383\n",
            "Epoch 8/40\n",
            "44/44 [==============================] - 5s 105ms/step - loss: 0.5382 - accuracy: 0.7279 - val_loss: 0.6630 - val_accuracy: 0.6083\n",
            "Epoch 9/40\n",
            "44/44 [==============================] - 8s 176ms/step - loss: 0.5340 - accuracy: 0.7279 - val_loss: 0.6528 - val_accuracy: 0.5850\n",
            "Epoch 10/40\n",
            "44/44 [==============================] - 5s 119ms/step - loss: 0.4384 - accuracy: 0.7979 - val_loss: 0.6468 - val_accuracy: 0.6367\n",
            "Epoch 11/40\n",
            "44/44 [==============================] - 4s 90ms/step - loss: 0.3915 - accuracy: 0.8379 - val_loss: 0.7275 - val_accuracy: 0.6300\n",
            "Epoch 12/40\n",
            "44/44 [==============================] - 5s 123ms/step - loss: 0.3202 - accuracy: 0.8714 - val_loss: 0.8566 - val_accuracy: 0.5900\n",
            "Epoch 13/40\n",
            "44/44 [==============================] - 6s 130ms/step - loss: 0.3194 - accuracy: 0.8643 - val_loss: 0.7703 - val_accuracy: 0.6400\n",
            "Epoch 14/40\n",
            "44/44 [==============================] - 5s 113ms/step - loss: 0.2660 - accuracy: 0.8900 - val_loss: 0.7143 - val_accuracy: 0.6417\n",
            "Epoch 15/40\n",
            "44/44 [==============================] - 5s 116ms/step - loss: 0.2582 - accuracy: 0.8900 - val_loss: 0.7180 - val_accuracy: 0.6317\n",
            "Epoch 16/40\n",
            "44/44 [==============================] - 6s 126ms/step - loss: 0.2457 - accuracy: 0.8979 - val_loss: 0.7732 - val_accuracy: 0.6233\n",
            "Epoch 17/40\n",
            "44/44 [==============================] - 4s 80ms/step - loss: 0.2088 - accuracy: 0.9207 - val_loss: 0.7420 - val_accuracy: 0.6250\n",
            "Epoch 18/40\n",
            "44/44 [==============================] - 4s 98ms/step - loss: 0.2045 - accuracy: 0.9214 - val_loss: 0.9562 - val_accuracy: 0.6583\n",
            "Epoch 19/40\n",
            "44/44 [==============================] - 5s 113ms/step - loss: 0.2203 - accuracy: 0.9136 - val_loss: 0.7539 - val_accuracy: 0.6250\n",
            "Epoch 20/40\n",
            "44/44 [==============================] - 6s 140ms/step - loss: 0.2092 - accuracy: 0.9157 - val_loss: 0.7864 - val_accuracy: 0.6317\n",
            "Epoch 21/40\n",
            "44/44 [==============================] - 5s 124ms/step - loss: 0.1526 - accuracy: 0.9450 - val_loss: 0.8311 - val_accuracy: 0.6317\n",
            "Epoch 22/40\n",
            "44/44 [==============================] - 3s 73ms/step - loss: 0.1382 - accuracy: 0.9479 - val_loss: 1.1555 - val_accuracy: 0.6250\n",
            "Epoch 23/40\n",
            "44/44 [==============================] - 6s 129ms/step - loss: 0.1634 - accuracy: 0.9450 - val_loss: 0.9263 - val_accuracy: 0.6367\n",
            "Epoch 24/40\n",
            "44/44 [==============================] - 6s 147ms/step - loss: 0.1413 - accuracy: 0.9443 - val_loss: 0.9530 - val_accuracy: 0.6200\n",
            "Epoch 25/40\n",
            "44/44 [==============================] - 5s 103ms/step - loss: 0.1378 - accuracy: 0.9543 - val_loss: 0.8736 - val_accuracy: 0.6333\n",
            "Epoch 26/40\n",
            "44/44 [==============================] - 4s 87ms/step - loss: 0.1157 - accuracy: 0.9557 - val_loss: 1.1128 - val_accuracy: 0.6283\n",
            "Epoch 27/40\n",
            "44/44 [==============================] - 5s 125ms/step - loss: 0.1628 - accuracy: 0.9421 - val_loss: 0.9651 - val_accuracy: 0.6400\n",
            "Epoch 28/40\n",
            "44/44 [==============================] - 4s 87ms/step - loss: 0.1438 - accuracy: 0.9443 - val_loss: 0.8831 - val_accuracy: 0.6217\n",
            "Epoch 29/40\n",
            "44/44 [==============================] - 5s 117ms/step - loss: 0.0883 - accuracy: 0.9686 - val_loss: 0.9250 - val_accuracy: 0.6200\n",
            "Epoch 30/40\n",
            "44/44 [==============================] - 5s 123ms/step - loss: 0.0984 - accuracy: 0.9593 - val_loss: 0.9377 - val_accuracy: 0.6317\n",
            "Epoch 31/40\n",
            "44/44 [==============================] - 6s 146ms/step - loss: 0.0917 - accuracy: 0.9657 - val_loss: 1.0535 - val_accuracy: 0.6200\n",
            "Epoch 32/40\n",
            "44/44 [==============================] - 6s 148ms/step - loss: 0.0828 - accuracy: 0.9700 - val_loss: 1.1095 - val_accuracy: 0.6267\n",
            "Epoch 33/40\n",
            "44/44 [==============================] - 6s 128ms/step - loss: 0.1166 - accuracy: 0.9686 - val_loss: 0.8838 - val_accuracy: 0.6300\n",
            "Epoch 34/40\n",
            "44/44 [==============================] - 7s 161ms/step - loss: 0.1040 - accuracy: 0.9629 - val_loss: 1.0106 - val_accuracy: 0.6317\n",
            "Epoch 35/40\n",
            "44/44 [==============================] - 6s 128ms/step - loss: 0.0711 - accuracy: 0.9793 - val_loss: 1.0769 - val_accuracy: 0.6300\n",
            "Epoch 36/40\n",
            "44/44 [==============================] - 8s 183ms/step - loss: 0.0834 - accuracy: 0.9721 - val_loss: 1.0833 - val_accuracy: 0.6400\n",
            "Epoch 37/40\n",
            "44/44 [==============================] - 7s 155ms/step - loss: 0.0930 - accuracy: 0.9664 - val_loss: 1.0452 - val_accuracy: 0.6067\n",
            "Epoch 38/40\n",
            "44/44 [==============================] - 4s 99ms/step - loss: 0.0773 - accuracy: 0.9679 - val_loss: 1.0024 - val_accuracy: 0.6333\n",
            "Epoch 39/40\n",
            "44/44 [==============================] - 5s 116ms/step - loss: 0.0976 - accuracy: 0.9614 - val_loss: 0.8694 - val_accuracy: 0.6283\n",
            "Epoch 40/40\n",
            "44/44 [==============================] - 7s 148ms/step - loss: 0.0729 - accuracy: 0.9736 - val_loss: 0.9479 - val_accuracy: 0.6150\n"
          ]
        }
      ],
      "source": [
        "history = model.fit(X_train, Y_train, epochs=40, batch_size=32, validation_data=(X_test, Y_test))"
      ]
    },
    {
      "cell_type": "code",
      "execution_count": 23,
      "metadata": {
        "id": "9VNAnsNKyCBE",
        "colab": {
          "base_uri": "https://localhost:8080/",
          "height": 927
        },
        "outputId": "9c12dfa6-3b98-4a45-c7ea-dd3ddd258c68"
      },
      "outputs": [
        {
          "output_type": "display_data",
          "data": {
            "text/plain": [
              "<Figure size 640x480 with 1 Axes>"
            ],
            "image/png": "[encoded data removed]"
          },
          "metadata": {}
        },
        {
          "output_type": "display_data",
          "data": {
            "text/plain": [
              "<Figure size 640x480 with 1 Axes>"
            ],
            "image/png": "[encoded data removed]"
          },
          "metadata": {}
        }
      ],
      "source": [
        "infos = [\"accuracy\",\"loss\"]\n",
        "for info in infos:\n",
        "  plt.plot(history.history[info])\n",
        "  plt.plot(history.history[f'val_{info}'])\n",
        "  plt.title(f'Model {info}')\n",
        "  plt.xlabel('Epoch')\n",
        "  plt.ylabel(f'{info}')\n",
        "  plt.legend(['Train', 'Validation'], loc='upper left')\n",
        "  plt.show()"
      ]
    },
    {
      "cell_type": "markdown",
      "metadata": {
        "id": "EsFpZgZmx6K8"
      },
      "source": [
        "### **- Evaluate predictions**"
      ]
    },
    {
      "cell_type": "code",
      "execution_count": 25,
      "metadata": {
        "id": "gQHjMi-Rc53d",
        "colab": {
          "base_uri": "https://localhost:8080/"
        },
        "outputId": "34794d55-0811-4df1-b77e-2d407ae90da4"
      },
      "outputs": [
        {
          "output_type": "stream",
          "name": "stdout",
          "text": [
            "19/19 [==============================] - 0s 23ms/step\n",
            "Accuracy: 61.50%\n",
            "Accuracy positive reviews: 61.30%\n",
            "Accuracy negative reviews: 61.69%\n"
          ]
        }
      ],
      "source": [
        "proba  = model.predict(X_test)\n",
        "y_pred = (proba > 0.5).astype(int)\n",
        "accuracy = accuracy_score(Y_test, y_pred)\n",
        "accuracy_positive = accuracy_score(Y_test[Y_test == 1], y_pred[Y_test == 1])\n",
        "accuracy_negative = accuracy_score(Y_test[Y_test == 0], y_pred[Y_test == 0])\n",
        "print(\"Accuracy: {:.2f}%\".format(accuracy * 100))\n",
        "print(\"Accuracy positive reviews: {:.2f}%\".format(accuracy_positive * 100))\n",
        "print(\"Accuracy negative reviews: {:.2f}%\".format(accuracy_negative * 100))"
      ]
    },
    {
      "cell_type": "markdown",
      "source": [
        "It's the model that has the lowest delat of accuracy between negatif and positives reviews predicitions\n",
        "\n",
        "choising :\n",
        "- model\n",
        "- token len : 200\n",
        "- glove dim : 50\n",
        "- learning rate : default\n",
        "- optimizer : Adam\n",
        "- batch size : 32\n",
        "\n",
        "\n"
      ],
      "metadata": {
        "id": "svn3-P4-S7ZZ"
      }
    }
  ],
  "metadata": {
    "colab": {
      "provenance": []
    },
    "kernelspec": {
      "display_name": "Python 3",
      "name": "python3"
    },
    "language_info": {
      "name": "python"
    }
  },
  "nbformat": 4,
  "nbformat_minor": 0
}