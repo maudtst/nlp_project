{
 "cells": [
  {
   "cell_type": "code",
   "execution_count": 1,
   "metadata": {
    "colab": {
     "base_uri": "https://localhost:8080/"
    },
    "id": "YNo3E3M0G3S6",
    "outputId": "b1ed17a9-e2be-4646-ece5-561f40a12aee"
   },
   "outputs": [
    {
     "name": "stderr",
     "output_type": "stream",
     "text": [
      "[nltk_data] Downloading package punkt to /Users/mtissot/nltk_data...\n",
      "[nltk_data]   Package punkt is already up-to-date!\n",
      "[nltk_data] Downloading package treebank to\n",
      "[nltk_data]     /Users/mtissot/nltk_data...\n",
      "[nltk_data]   Package treebank is already up-to-date!\n",
      "[nltk_data] Downloading package wordnet to /Users/mtissot/nltk_data...\n",
      "[nltk_data]   Package wordnet is already up-to-date!\n",
      "[nltk_data] Downloading package sentiwordnet to\n",
      "[nltk_data]     /Users/mtissot/nltk_data...\n",
      "[nltk_data]   Package sentiwordnet is already up-to-date!\n",
      "[nltk_data] Downloading package averaged_perceptron_tagger to\n",
      "[nltk_data]     /Users/mtissot/nltk_data...\n",
      "[nltk_data]   Package averaged_perceptron_tagger is already up-to-\n",
      "[nltk_data]       date!\n"
     ]
    },
    {
     "data": {
      "text/plain": [
       "True"
      ]
     },
     "execution_count": 1,
     "metadata": {},
     "output_type": "execute_result"
    }
   ],
   "source": [
    "import nltk\n",
    "nltk.download(\"punkt\")\n",
    "\n",
    "from nltk.tag import UnigramTagger\n",
    "from nltk.corpus import treebank\n",
    "nltk.download('treebank')\n",
    "import pandas as pd\n",
    "\n",
    "import os\n",
    "from nltk.corpus import sentiwordnet as swn\n",
    "from nltk.tokenize import word_tokenize, sent_tokenize\n",
    "from nltk.tag import pos_tag\n",
    "from nltk.sentiment.util import mark_negation\n",
    "\n",
    "\n",
    "nltk.download('wordnet')\n",
    "nltk.download('sentiwordnet')\n",
    "nltk.download('averaged_perceptron_tagger')"
   ]
  },
  {
   "cell_type": "markdown",
   "metadata": {
    "id": "6Tr1F4ZZEMWo"
   },
   "source": [
    "## Load Data"
   ]
  },
  {
   "cell_type": "code",
   "execution_count": 2,
   "metadata": {
    "colab": {
     "base_uri": "https://localhost:8080/"
    },
    "id": "cupnwH07ES--",
    "outputId": "c18f8f4e-4595-4177-f406-e31573fb799e"
   },
   "outputs": [],
   "source": [
    "#from google.colab import drive\n",
    "#drive.mount('/content/dossiers')\n",
    "path = \"/Users/mtissot/Desktop/M2-DIA/NLP/pw2/review_polarity/txt_sentoken\"\n",
    "path_neg = \"/neg/\"\n",
    "path_pos = \"/pos/\""
   ]
  },
  {
   "cell_type": "code",
   "execution_count": 3,
   "metadata": {
    "id": "eTCPJ-p8QtmV"
   },
   "outputs": [],
   "source": [
    "def load_reviews(path):\n",
    "    reviews = []\n",
    "    labels  = []\n",
    "\n",
    "    for filename in os.listdir(path):\n",
    "        if filename.endswith(\".txt\"):\n",
    "            with open(os.path.join(path, filename), \"r\", encoding=\"utf-8\") as file:\n",
    "                review = file.read()\n",
    "                reviews.append(review)\n",
    "                if path.endswith(\"pos/\"):\n",
    "                    labels.append(\"positive\")\n",
    "                elif path.endswith(\"neg/\"):\n",
    "                    labels.append(\"negative\")\n",
    "\n",
    "    return reviews, labels"
   ]
  },
  {
   "cell_type": "code",
   "execution_count": 4,
   "metadata": {
    "id": "FBf1iui-RGHa"
   },
   "outputs": [],
   "source": [
    "positive_reviews, positive_labels = load_reviews(path+path_pos)\n",
    "negative_reviews, negative_labels = load_reviews(path+path_neg)\n",
    "\n",
    "all_reviews = positive_reviews + negative_reviews\n",
    "all_labels = positive_labels + negative_labels"
   ]
  },
  {
   "cell_type": "code",
   "execution_count": 5,
   "metadata": {
    "colab": {
     "base_uri": "https://localhost:8080/"
    },
    "id": "iIUlxaf8ROJQ",
    "outputId": "49ba51b7-d557-4bb0-d61c-6321ba290d39"
   },
   "outputs": [
    {
     "name": "stdout",
     "output_type": "stream",
     "text": [
      "Positive Review:\n",
      "\n",
      "who would have thought ? \n",
      "jim carrey does drama . \n",
      "when i first saw the advertisement for the truman show , i thought , \" what a hilarious idea for a movie ! \" \n",
      "however , it was an even better premise for a drama . \n",
      "the truman show takes us into a world that revolves around one man . \n",
      "that man is truman burbank ( jim carrey ) . \n",
      "truman has no clue what is really going on in his world and frankly , cristof wants to keep it that way . \n",
      "christof is the \" god \" of this made-up world . \n",
      "he keeps ever etc...\n",
      "\n",
      "Label: positive\n"
     ]
    }
   ],
   "source": [
    "print(\"Positive Review:\\n\")\n",
    "print(positive_reviews[10][:500],\"etc...\")\n",
    "print(\"\\nLabel:\", positive_labels[10])"
   ]
  },
  {
   "cell_type": "code",
   "execution_count": 6,
   "metadata": {
    "colab": {
     "base_uri": "https://localhost:8080/"
    },
    "id": "MgJ_R7BmR0tm",
    "outputId": "f81c67b5-49e6-4d93-db44-3848b6ea6713"
   },
   "outputs": [
    {
     "name": "stdout",
     "output_type": "stream",
     "text": [
      "Negative Review:\n",
      "\n",
      "starring shawnee smith ; donovan leitch ; ricky paull goldin ; kevin dillon & billy beck the blob is the remake of the 1960's classic ( a term that i use very loosely to define the original ) about a really mean glob of goop that takes out anything that gets in its way . \n",
      "now the original version has the virtue of cheesy special effects which give it a kind of nostalgic campy feel . \n",
      "the fact that steve mcqueen was the star of the film doesn't exactly hurt it either . \n",
      "fast forward to the late ' etc...\n",
      "\n",
      "Label: negative\n"
     ]
    }
   ],
   "source": [
    "print(\"Negative Review:\\n\")\n",
    "print(negative_reviews[10][:500],\"etc...\")\n",
    "print(\"\\nLabel:\", negative_labels[10])"
   ]
  },
  {
   "cell_type": "markdown",
   "metadata": {
    "id": "2gOMTa_EETvC"
   },
   "source": [
    "## Words identification\n",
    "\n",
    "With UnigramTagger using Treebank corpus find if a word is an adverb or verb or noun..."
   ]
  },
  {
   "cell_type": "code",
   "execution_count": 7,
   "metadata": {
    "id": "IgjxHFCLKBXy"
   },
   "outputs": [],
   "source": [
    "tokenizer = nltk.data.load(\"tokenizers/punkt/english.pickle\")\n",
    "tagged_sents = nltk.corpus.treebank.tagged_sents()\n",
    "unigram_tagger = UnigramTagger(tagged_sents)"
   ]
  },
  {
   "cell_type": "code",
   "execution_count": 8,
   "metadata": {
    "id": "2EMK75sFOHN6"
   },
   "outputs": [],
   "source": [
    "#Identification des adejctifs / adverbes\n",
    "def find_tag(tagged_sentence,tag_name=\"JJ\"):\n",
    "    words = [word for word, tag in tagged_sentence if tag and tag.startswith(tag_name)]\n",
    "    return words\n",
    "\n",
    "def classWords(review,tokenizer,unigram_tagger,tag_name=\"JJ\"):\n",
    "  sentences = tokenizer.tokenize(review) #tokenize chaque critique en liste de phrases\n",
    "  word_class=[]\n",
    "  for sentence in sentences:\n",
    "    words = word_tokenize(sentence)                     # Tokenize chaque phrase liste de mots\n",
    "    tagged_words = unigram_tagger.tag(words)            # Etiquetage\n",
    "    word_class.extend(find_tag(tagged_words,tag_name))  # Identifie les adverbes\n",
    "  return word_class"
   ]
  },
  {
   "cell_type": "markdown",
   "metadata": {
    "id": "RTgkIpAFS8Ez"
   },
   "source": [
    "**Exemple on a positive review**"
   ]
  },
  {
   "cell_type": "code",
   "execution_count": 9,
   "metadata": {
    "colab": {
     "base_uri": "https://localhost:8080/",
     "height": 35
    },
    "id": "omeYzxqHGPuW",
    "outputId": "e2a4f22e-59a1-452e-e0b9-02ccad4abe92"
   },
   "outputs": [
    {
     "data": {
      "text/plain": [
       "'positive'"
      ]
     },
     "execution_count": 9,
     "metadata": {},
     "output_type": "execute_result"
    }
   ],
   "source": [
    "review = all_reviews[0][:400]\n",
    "all_labels[0]"
   ]
  },
  {
   "cell_type": "markdown",
   "metadata": {
    "id": "x8QWs_khTC5H"
   },
   "source": [
    "**find adjectives**"
   ]
  },
  {
   "cell_type": "code",
   "execution_count": 10,
   "metadata": {
    "colab": {
     "base_uri": "https://localhost:8080/"
    },
    "id": "roO5O8ErEXp3",
    "outputId": "9e75142d-a43a-4f30-df66-450b0973eac8"
   },
   "outputs": [
    {
     "data": {
      "text/plain": [
       "['most', 'first', 'main', 'funny']"
      ]
     },
     "execution_count": 10,
     "metadata": {},
     "output_type": "execute_result"
    }
   ],
   "source": [
    "tag_name   = \"JJ\"  #adverbe = RB, adjectif = JJ\n",
    "classWords(review,tokenizer,unigram_tagger,tag_name)"
   ]
  },
  {
   "cell_type": "markdown",
   "metadata": {
    "id": "DJ7xyAXLTKXP"
   },
   "source": [
    "**find adverbs**"
   ]
  },
  {
   "cell_type": "code",
   "execution_count": 11,
   "metadata": {
    "colab": {
     "base_uri": "https://localhost:8080/"
    },
    "id": "T5gJx2UMS0yy",
    "outputId": "4c1ca2ab-ae2e-4bae-8eab-e12b065cc008"
   },
   "outputs": [
    {
     "data": {
      "text/plain": [
       "['perhaps', 'hardly', 'ever', 'especially']"
      ]
     },
     "execution_count": 11,
     "metadata": {},
     "output_type": "execute_result"
    }
   ],
   "source": [
    "tag_name   = \"RB\"  #adverbe = RB, adjectif = JJ\n",
    "classWords(review,tokenizer,unigram_tagger,tag_name)"
   ]
  },
  {
   "cell_type": "markdown",
   "metadata": {
    "id": "4dgL8wdhEc43"
   },
   "source": [
    "## Words scoring to evaluate sentiment"
   ]
  },
  {
   "cell_type": "code",
   "execution_count": 12,
   "metadata": {
    "id": "1CA7-wL-OEQs"
   },
   "outputs": [],
   "source": [
    "def getnewTag(tag_name):\n",
    "  sentiwordnet_pos = None\n",
    "  if tag_name.startswith(\"JJ\"):   # Adjectif\n",
    "    sentiwordnet_pos = 'a'\n",
    "  elif tag_name.startswith(\"RB\"): # adverb\n",
    "    sentiwordnet_pos = 'r'\n",
    "  elif tag_name.startswith(\"V\"):  # Verb\n",
    "    sentiwordnet_pos = 'v'\n",
    "  elif tag_name.startswith(\"NN\"): #Noun\n",
    "    sentiwordnet_pos = 'n'\n",
    "  return sentiwordnet_pos\n",
    "\n",
    "def getSentiment(tagged_word,tag_name):\n",
    "  tag_name = getnewTag(tag_name)\n",
    "  if tag_name:\n",
    "    synsets = list(swn.senti_synsets(tagged_word, tag_name))\n",
    "    if synsets:\n",
    "      synset = synsets[0]\n",
    "      return synset.pos_score() - synset.neg_score()\n",
    "    return 0"
   ]
  },
  {
   "cell_type": "markdown",
   "metadata": {
    "id": "PPtgPkIkYcIe"
   },
   "source": [
    "**Exemple on a positive review**"
   ]
  },
  {
   "cell_type": "code",
   "execution_count": 13,
   "metadata": {
    "colab": {
     "base_uri": "https://localhost:8080/",
     "height": 35
    },
    "id": "8FJHqhQ9YksP",
    "outputId": "1a097f90-c553-4b43-9380-2f96f2da5352"
   },
   "outputs": [
    {
     "data": {
      "text/plain": [
       "'positive'"
      ]
     },
     "execution_count": 13,
     "metadata": {},
     "output_type": "execute_result"
    }
   ],
   "source": [
    "review = all_reviews[0][:400]\n",
    "all_labels[0]"
   ]
  },
  {
   "cell_type": "code",
   "execution_count": 14,
   "metadata": {
    "colab": {
     "base_uri": "https://localhost:8080/"
    },
    "id": "zelmU2X7b7js",
    "outputId": "5ccb20ff-cfbe-4946-8f80-272d6bc0fc82"
   },
   "outputs": [
    {
     "data": {
      "text/plain": [
       "['most', 'first', 'main', 'funny']"
      ]
     },
     "execution_count": 14,
     "metadata": {},
     "output_type": "execute_result"
    }
   ],
   "source": [
    "tag_name   = \"JJ\"  #adverbe = RB, adjectif = JJ\n",
    "classWords(review,tokenizer,unigram_tagger,tag_name)"
   ]
  },
  {
   "cell_type": "markdown",
   "metadata": {
    "id": "I913zoMhYiow"
   },
   "source": [
    "**find adjectives sentiment**"
   ]
  },
  {
   "cell_type": "code",
   "execution_count": 15,
   "metadata": {
    "colab": {
     "base_uri": "https://localhost:8080/"
    },
    "id": "qBie0CIBYobu",
    "outputId": "1cd7c536-34d3-463a-95f6-b430e466af15"
   },
   "outputs": [
    {
     "name": "stdout",
     "output_type": "stream",
     "text": [
      "most: Sentiment Score = 0.00\n",
      "first: Sentiment Score = 0.00\n",
      "main: Sentiment Score = 0.38\n",
      "funny: Sentiment Score = 0.50\n"
     ]
    }
   ],
   "source": [
    "#nltk.download('omw-1.4')\n",
    "tag_name   = \"JJ\"  #adverbe = RB, adjectif = JJ\n",
    "adj_words = classWords(review,tokenizer,unigram_tagger,tag_name)\n",
    "\n",
    "for w in adj_words:\n",
    "    sentiment = getSentiment(w,tag_name)\n",
    "    print(f\"{w}: Sentiment Score = {sentiment:.2f}\")"
   ]
  },
  {
   "cell_type": "markdown",
   "metadata": {
    "id": "Byn5fAkbZGDq"
   },
   "source": [
    "**find adverbs sentiment**"
   ]
  },
  {
   "cell_type": "code",
   "execution_count": 16,
   "metadata": {
    "colab": {
     "base_uri": "https://localhost:8080/"
    },
    "id": "53zlNe9HYbdt",
    "outputId": "ea78385e-4c20-4baf-d41e-e33003516073"
   },
   "outputs": [
    {
     "name": "stdout",
     "output_type": "stream",
     "text": [
      "perhaps: Sentiment Score = 0.00\n",
      "hardly: Sentiment Score = 0.12\n",
      "ever: Sentiment Score = 0.00\n",
      "especially: Sentiment Score = 0.00\n"
     ]
    }
   ],
   "source": [
    "tag_name   = \"RB\"  #adverbe = RB, adjectif = JJ\n",
    "adj_words = classWords(review,tokenizer,unigram_tagger,tag_name)\n",
    "\n",
    "for w in adj_words:\n",
    "    sentiment = getSentiment(w,tag_name)\n",
    "    print(f\"{w}: Sentiment Score = {sentiment:.2f}\")"
   ]
  },
  {
   "cell_type": "markdown",
   "metadata": {
    "id": "nQ2dC45CEgN9"
   },
   "source": [
    "## Classify a Review"
   ]
  },
  {
   "cell_type": "code",
   "execution_count": 17,
   "metadata": {
    "id": "5Y0-tmm_ZoYz"
   },
   "outputs": [],
   "source": [
    "import numpy as np\n",
    "def getReviewScore(review,tag_names):\n",
    "  score = 0\n",
    "  count = 0\n",
    "\n",
    "  for tag in tag_names:\n",
    "    words = classWords(review,tokenizer,unigram_tagger,tag)\n",
    "    score += np.sum([getSentiment(w,tag) for w in words])\n",
    "    count += len(words)\n",
    "\n",
    "  if count > 0:\n",
    "    score = score / count\n",
    "\n",
    "  return score\n",
    "\n",
    "def classifyReview(review, tag_names, threshold=0.1):\n",
    "    score = getReviewScore(review, tag_names)\n",
    "    if score < 0 : return \"Negative\"\n",
    "    else: return 'Positive'\n"
   ]
  },
  {
   "cell_type": "markdown",
   "metadata": {
    "id": "LXUDUBHab1rW"
   },
   "source": [
    "**Exemple on a positive review**"
   ]
  },
  {
   "cell_type": "code",
   "execution_count": 18,
   "metadata": {
    "colab": {
     "base_uri": "https://localhost:8080/",
     "height": 35
    },
    "id": "cfo9J72Eb1Pn",
    "outputId": "668fca1c-6dc3-4c8a-ab55-09c784ac1074"
   },
   "outputs": [
    {
     "data": {
      "text/plain": [
       "'positive'"
      ]
     },
     "execution_count": 18,
     "metadata": {},
     "output_type": "execute_result"
    }
   ],
   "source": [
    "review = all_reviews[0]\n",
    "all_labels[0]"
   ]
  },
  {
   "cell_type": "markdown",
   "metadata": {
    "id": "ptUw3C1HcGWf"
   },
   "source": [
    "**find global sentiment evaluating adjectivs**"
   ]
  },
  {
   "cell_type": "code",
   "execution_count": 19,
   "metadata": {
    "colab": {
     "base_uri": "https://localhost:8080/"
    },
    "id": "2C87kerHb-F_",
    "outputId": "a63b016b-b99b-4593-8884-14aa860b883d"
   },
   "outputs": [
    {
     "name": "stdout",
     "output_type": "stream",
     "text": [
      "score 0.06402439024390244\n",
      "sentiment Positive\n"
     ]
    }
   ],
   "source": [
    "tag_name   = \"JJ\"\n",
    "print(\"score\",getReviewScore(review, [tag_name]))\n",
    "print(\"sentiment\",classifyReview(review, [tag_name]))"
   ]
  },
  {
   "cell_type": "markdown",
   "metadata": {
    "id": "JfnrxO1AcM5F"
   },
   "source": [
    "**find global sentiment evaluating adverbs**"
   ]
  },
  {
   "cell_type": "code",
   "execution_count": 20,
   "metadata": {
    "colab": {
     "base_uri": "https://localhost:8080/"
    },
    "id": "Fl_CiKD9ca69",
    "outputId": "ab2b952d-b5c4-4718-ac4c-3c2749019e7e"
   },
   "outputs": [
    {
     "name": "stdout",
     "output_type": "stream",
     "text": [
      "score -0.09883720930232558\n",
      "sentiment Negative\n"
     ]
    }
   ],
   "source": [
    "tag_name   = \"RB\"\n",
    "print(\"score\",getReviewScore(review, [tag_name]))\n",
    "print(\"sentiment\",classifyReview(review, [tag_name]))"
   ]
  },
  {
   "cell_type": "markdown",
   "metadata": {
    "id": "xXF8oge0cNXX"
   },
   "source": [
    "**Find global sentiment evaluating both**"
   ]
  },
  {
   "cell_type": "code",
   "execution_count": 21,
   "metadata": {
    "colab": {
     "base_uri": "https://localhost:8080/"
    },
    "id": "4rFdbCbGcfgW",
    "outputId": "e8ee9a7d-2d73-4706-e8ef-b1ed4e383206"
   },
   "outputs": [
    {
     "name": "stdout",
     "output_type": "stream",
     "text": [
      "score -0.019345238095238096\n",
      "sentiment Negative\n"
     ]
    }
   ],
   "source": [
    "print(\"score\",getReviewScore(review, [\"RB\",\"JJ\"]))\n",
    "print(\"sentiment\",classifyReview(review,[\"RB\",\"JJ\"]))"
   ]
  },
  {
   "cell_type": "markdown",
   "metadata": {
    "id": "2Xb6sfr4enAW"
   },
   "source": [
    "## Evaluate all review"
   ]
  },
  {
   "cell_type": "code",
   "execution_count": 22,
   "metadata": {
    "id": "aRmvMD2-1DRE"
   },
   "outputs": [],
   "source": [
    "def classifyAllReviews(reviews, tag_names, threshold=0.0, expected_label='Positive'):\n",
    "    true_positives = 0\n",
    "    false_positives = 0\n",
    "    false_negatives = 0\n",
    "    correctly_classified = 0\n",
    "\n",
    "    for review in reviews:\n",
    "        result = classifyReview(review, tag_names, threshold)\n",
    "\n",
    "        if result == expected_label:\n",
    "            true_positives += 1\n",
    "        elif result != expected_label and expected_label == 'Positive':\n",
    "            false_negatives += 1\n",
    "        else:\n",
    "            false_positives += 1\n",
    "\n",
    "    precision = true_positives / (true_positives + false_positives)\n",
    "    recall    = true_positives / (true_positives + false_negatives)\n",
    "    accuracy  = true_positives / len(reviews) * 100\n",
    "\n",
    "    return precision, accuracy, recall\n",
    "\n"
   ]
  },
  {
   "cell_type": "code",
   "execution_count": 23,
   "metadata": {
    "id": "wCjc3Utyf4TE"
   },
   "outputs": [],
   "source": [
    "positive_acc=[]\n",
    "positive_acc.append(classifyAllReviews(positive_reviews,[\"V\"],0,\"Positive\"))\n",
    "positive_acc.append(classifyAllReviews(positive_reviews,[\"JJ\"],0,\"Positive\"))\n",
    "positive_acc.append(classifyAllReviews(positive_reviews,[\"RB\"],0,\"Positive\"))\n",
    "positive_acc.append(classifyAllReviews(positive_reviews,[\"NN\"],0,\"Positive\"))\n",
    "\n",
    "positive_acc.append(classifyAllReviews(positive_reviews,[\"V\",\"JJ\"],0,\"Positive\"))\n",
    "positive_acc.append(classifyAllReviews(positive_reviews,[\"JJ\",\"RB\"],0,\"Positive\"))\n",
    "positive_acc.append(classifyAllReviews(positive_reviews,[\"V\",\"RB\"],0,\"Positive\"))\n",
    "positive_acc.append(classifyAllReviews(positive_reviews,[\"V\",\"NN\"],0,\"Positive\"))\n",
    "positive_acc.append(classifyAllReviews(positive_reviews,[\"JJ\",\"NN\"],0,\"Positive\"))\n",
    "positive_acc.append(classifyAllReviews(positive_reviews,[\"NN\",\"RB\"],0,\"Positive\"))\n",
    "\n",
    "positive_acc.append(classifyAllReviews(positive_reviews,[\"JJ\",\"RB\",\"V\"],0,\"Positive\"))\n",
    "positive_acc.append(classifyAllReviews(positive_reviews,[\"JJ\",\"RB\",\"NN\"],0,\"Positive\"))\n",
    "positive_acc.append(classifyAllReviews(positive_reviews,[\"JJ\",\"NN\",\"V\"],0,\"Positive\"))\n",
    "positive_acc.append(classifyAllReviews(positive_reviews,[\"NN\",\"RB\",\"V\"],0,\"Positive\"))\n",
    "\n",
    "positive_acc.append(classifyAllReviews(positive_reviews,[\"NN\",\"RB\",\"V\",\"NN\"],0,\"Positive\"))"
   ]
  },
  {
   "cell_type": "markdown",
   "metadata": {
    "id": "4-cN258tgAE5"
   },
   "source": [
    "Negative"
   ]
  },
  {
   "cell_type": "code",
   "execution_count": 24,
   "metadata": {
    "id": "6hMSGzAMtH2x"
   },
   "outputs": [],
   "source": [
    "negative_acc=[]\n",
    "negative_acc.append(classifyAllReviews(negative_reviews,[\"V\"],0,\"Negative\"))\n",
    "negative_acc.append(classifyAllReviews(negative_reviews,[\"JJ\"],0,\"Negative\"))\n",
    "negative_acc.append(classifyAllReviews(negative_reviews,[\"RB\"],0,\"Negative\"))\n",
    "negative_acc.append(classifyAllReviews(negative_reviews,[\"NN\"],0,\"Negative\"))\n",
    "\n",
    "negative_acc.append(classifyAllReviews(negative_reviews,[\"V\",\"JJ\"],0,\"Negative\"))\n",
    "negative_acc.append(classifyAllReviews(negative_reviews,[\"JJ\",\"RB\"],0,\"Negative\"))\n",
    "negative_acc.append(classifyAllReviews(negative_reviews,[\"V\",\"RB\"],0,\"Negative\"))\n",
    "negative_acc.append(classifyAllReviews(negative_reviews,[\"V\",\"NN\"],0,\"Negative\"))\n",
    "negative_acc.append(classifyAllReviews(negative_reviews,[\"JJ\",\"NN\"],0,\"Negative\"))\n",
    "negative_acc.append(classifyAllReviews(negative_reviews,[\"NN\",\"RB\"],0,\"Negative\"))\n",
    "\n",
    "negative_acc.append(classifyAllReviews(negative_reviews,[\"JJ\",\"RB\",\"V\"],0,\"Negative\"))\n",
    "negative_acc.append(classifyAllReviews(negative_reviews,[\"JJ\",\"RB\",\"NN\"],0,\"Negative\"))\n",
    "negative_acc.append(classifyAllReviews(negative_reviews,[\"JJ\",\"NN\",\"V\"],0,\"Negative\"))\n",
    "negative_acc.append(classifyAllReviews(negative_reviews,[\"NN\",\"RB\",\"V\"],0,\"Negative\"))\n",
    "\n",
    "negative_acc.append(classifyAllReviews(negative_reviews,[\"NN\",\"RB\",\"V\",\"NN\"],0,\"Negative\"))"
   ]
  },
  {
   "cell_type": "code",
   "execution_count": 25,
   "metadata": {
    "colab": {
     "base_uri": "https://localhost:8080/"
    },
    "id": "7FAYWstrhums",
    "outputId": "794c4cc1-ef67-4690-c82b-724b1ec235ef"
   },
   "outputs": [
    {
     "name": "stdout",
     "output_type": "stream",
     "text": [
      "Number of metrics 15\n",
      "Number of models 3\n"
     ]
    }
   ],
   "source": [
    "positive_acc = np.array(positive_acc)\n",
    "negative_acc = np.array(negative_acc)\n",
    "print(f\"Number of metrics {np.shape(positive_acc)[0]}\")\n",
    "print(f\"Number of models {np.shape(positive_acc)[1]}\")"
   ]
  },
  {
   "cell_type": "code",
   "execution_count": 26,
   "metadata": {
    "id": "L0-Z3xCpzoVW"
   },
   "outputs": [],
   "source": [
    "import matplotlib.pyplot as plt\n",
    "import matplotlib.pyplot as plt\n",
    "import numpy as np\n",
    "\n",
    "\n",
    "# Noms des classes (étiquettes)\n",
    "#classes = [f\"{i}\" for i in range(15)]\n",
    "\n",
    "# Largeur des barres\n",
    "bar_width = 0.3\n",
    "# Position des barres sur l'axe x\n",
    "indices = np.arange(np.shape(positive_acc)[0])"
   ]
  },
  {
   "cell_type": "code",
   "execution_count": 27,
   "metadata": {
    "colab": {
     "base_uri": "https://localhost:8080/",
     "height": 472
    },
    "id": "Hu0IumZp8mI3",
    "outputId": "a361ab37-26c7-4bea-bacf-8a7cdc9304cb"
   },
   "outputs": [
    {
     "data": {
      "image/png": "[encoded data removed]",
      "text/plain": [
       "<Figure size 432x288 with 1 Axes>"
      ]
     },
     "metadata": {
      "needs_background": "light"
     },
     "output_type": "display_data"
    }
   ],
   "source": [
    "i=0\n",
    "plt.bar(indices - bar_width/2, positive_acc[:,i], bar_width, label='Positive')\n",
    "plt.bar(indices + bar_width/2, negative_acc[:,i], bar_width, label='Negative')\n",
    "\n",
    "plt.xlabel('Classes')\n",
    "plt.ylabel('Précision')\n",
    "plt.title('Précision par classe')\n",
    "plt.legend()\n",
    "\n",
    "plt.show()"
   ]
  },
  {
   "cell_type": "markdown",
   "metadata": {
    "id": "tfNZolPivgWd"
   },
   "source": [
    "La precision est très bien pour tous les positifs, mais beaucoup de commentaires negatifs sont comptés comme positifs, les meilleurs resultats restent aux indices 2 puis 5, 9 et 11 et enfin 1"
   ]
  },
  {
   "cell_type": "code",
   "execution_count": 28,
   "metadata": {
    "colab": {
     "base_uri": "https://localhost:8080/",
     "height": 472
    },
    "id": "fYQCNzIN8dD0",
    "outputId": "5309aed7-4ffc-4206-b6a1-5f2aa38f8c8c"
   },
   "outputs": [
    {
     "data": {
      "image/png": "[encoded data removed]",
      "text/plain": [
       "<Figure size 432x288 with 1 Axes>"
      ]
     },
     "metadata": {
      "needs_background": "light"
     },
     "output_type": "display_data"
    }
   ],
   "source": [
    "i=1\n",
    "\n",
    "#plt.bar(indices - bar_width/2, positive_acc[:,i], bar_width, label='Positive')\n",
    "#plt.bar(indices + bar_width/2, negative_acc[:,i], bar_width, label='Negative')\n",
    "plt.plot(positive_acc[:,i],label='Positive')\n",
    "plt.plot(negative_acc[:,i],label='Negative')\n",
    "\n",
    "plt.plot(negative_acc[:,i]+positive_acc[:,i],linestyle=\"dashed\",color=\"black\",label='Sum')\n",
    "\n",
    "plt.xlabel('Classes')\n",
    "plt.ylabel('Accuracy')\n",
    "plt.title('Accuracy par classe')\n",
    "plt.legend()\n",
    "\n",
    "plt.show()"
   ]
  },
  {
   "cell_type": "markdown",
   "metadata": {
    "id": "YPF9xSzZvzEw"
   },
   "source": [
    "L'accuracy est la meilleur pour les indices 1, 8 et 11, puis 3 et 5"
   ]
  },
  {
   "cell_type": "code",
   "execution_count": 29,
   "metadata": {
    "colab": {
     "base_uri": "https://localhost:8080/",
     "height": 472
    },
    "id": "5BVz_IRmeC26",
    "outputId": "e98483f8-5fb0-4c81-fad5-66ea3f5e27e4"
   },
   "outputs": [
    {
     "data": {
      "image/png": "[encoded data removed]",
      "text/plain": [
       "<Figure size 432x288 with 1 Axes>"
      ]
     },
     "metadata": {
      "needs_background": "light"
     },
     "output_type": "display_data"
    }
   ],
   "source": [
    "i=2\n",
    "\n",
    "plt.bar(indices - bar_width/2, positive_acc[:,i], bar_width, label='Positive')\n",
    "plt.bar(indices + bar_width/2, negative_acc[:,i], bar_width, label='Negative')\n",
    "\n",
    "plt.xlabel('Classes')\n",
    "plt.ylabel('Recall')\n",
    "plt.title('Recall par classe')\n",
    "plt.legend()\n",
    "\n",
    "plt.show()"
   ]
  },
  {
   "cell_type": "markdown",
   "metadata": {
    "id": "d_nEE4ukx2lA"
   },
   "source": [
    "Revoir la formule du recall"
   ]
  },
  {
   "cell_type": "markdown",
   "metadata": {
    "id": "vpCljUw-xcTJ"
   },
   "source": [
    "## **best model : indice 5 => using [\"JJ\",\"RB\"] : adverbes and adjectives to predict the sentiment**"
   ]
  },
  {
   "cell_type": "code",
   "execution_count": 1,
   "metadata": {
    "id": "uCZ1y3wjyl0u"
   },
   "outputs": [
    {
     "name": "stdout",
     "output_type": "stream",
     "text": [
      "\u001b[33mWARNING: pip is configured with locations that require TLS/SSL, however the ssl module in Python is not available.\u001b[0m\u001b[33m\n",
      "\u001b[0m\u001b[33mWARNING: Retrying (Retry(total=4, connect=None, read=None, redirect=None, status=None)) after connection broken by 'SSLError(\"Can't connect to HTTPS URL because the SSL module is not available.\")': /simple/streamlit/\u001b[0m\u001b[33m\n",
      "\u001b[0m\u001b[33mWARNING: Retrying (Retry(total=3, connect=None, read=None, redirect=None, status=None)) after connection broken by 'SSLError(\"Can't connect to HTTPS URL because the SSL module is not available.\")': /simple/streamlit/\u001b[0m\u001b[33m\n",
      "\u001b[0m\u001b[33mWARNING: Retrying (Retry(total=2, connect=None, read=None, redirect=None, status=None)) after connection broken by 'SSLError(\"Can't connect to HTTPS URL because the SSL module is not available.\")': /simple/streamlit/\u001b[0m\u001b[33m\n",
      "\u001b[0m\u001b[33mWARNING: Retrying (Retry(total=1, connect=None, read=None, redirect=None, status=None)) after connection broken by 'SSLError(\"Can't connect to HTTPS URL because the SSL module is not available.\")': /simple/streamlit/\u001b[0m\u001b[33m\n",
      "\u001b[0m\u001b[33mWARNING: Retrying (Retry(total=0, connect=None, read=None, redirect=None, status=None)) after connection broken by 'SSLError(\"Can't connect to HTTPS URL because the SSL module is not available.\")': /simple/streamlit/\u001b[0m\u001b[33m\n",
      "\u001b[0m\u001b[31mERROR: Could not find a version that satisfies the requirement streamlit (from versions: none)\u001b[0m\u001b[31m\n",
      "\u001b[0m\u001b[31mERROR: No matching distribution found for streamlit\u001b[0m\u001b[31m\n",
      "\u001b[0m\u001b[33mWARNING: pip is configured with locations that require TLS/SSL, however the ssl module in Python is not available.\u001b[0m\u001b[33m\n",
      "\u001b[0m\u001b[33mWARNING: There was an error checking the latest version of pip.\u001b[0m\u001b[33m\n",
      "\u001b[0m"
     ]
    }
   ],
   "source": [
    "!pip install -q streamlit\n",
    "#import streamlit as st\n",
    "#%%writefile app.py\n",
    "#import streamlit as st\n",
    "#st.write('Hello, *World!* :sunglasses:')\n",
    "\n",
    "#!npm install localtunnel\n",
    "#!streamlit run app.py &>/content/logs.txt & curl ipv4.icanhazip.com\n",
    "#!npx localtunnel --port 8501"
   ]
  },
  {
   "cell_type": "code",
   "execution_count": null,
   "metadata": {},
   "outputs": [],
   "source": []
  }
 ],
 "metadata": {
  "colab": {
   "provenance": []
  },
  "kernelspec": {
   "display_name": "Python 3 (ipykernel)",
   "language": "python",
   "name": "python3"
  },
  "language_info": {
   "codemirror_mode": {
    "name": "ipython",
    "version": 3
   },
   "file_extension": ".py",
   "mimetype": "text/x-python",
   "name": "python",
   "nbconvert_exporter": "python",
   "pygments_lexer": "ipython3",
   "version": "3.9.12"
  }
 },
 "nbformat": 4,
 "nbformat_minor": 1
}
